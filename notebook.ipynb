{
 "cells": [
  {
   "cell_type": "markdown",
   "metadata": {},
   "source": [
    "extract features from that .py notebook\n",
    "deicide which model to use\n",
    "1. price prediction - use ML models like Xg boost - prediction is based on car plate features\n",
    "2. price modeling over time - use time series models like ARIMA - prediction is based on the price change over time."
   ]
  },
  {
   "cell_type": "code",
   "execution_count": 1,
   "metadata": {},
   "outputs": [],
   "source": [
    "# Importing libraries\n",
    "import pandas as pd\n",
    "import numpy as np\n",
    "import seaborn as sns \n",
    "import matplotlib.pyplot as plt"
   ]
  },
  {
   "cell_type": "code",
   "execution_count": 2,
   "metadata": {},
   "outputs": [
    {
     "data": {
      "text/html": [
       "<div>\n",
       "<style scoped>\n",
       "    .dataframe tbody tr th:only-of-type {\n",
       "        vertical-align: middle;\n",
       "    }\n",
       "\n",
       "    .dataframe tbody tr th {\n",
       "        vertical-align: top;\n",
       "    }\n",
       "\n",
       "    .dataframe thead th {\n",
       "        text-align: right;\n",
       "    }\n",
       "</style>\n",
       "<table border=\"1\" class=\"dataframe\">\n",
       "  <thead>\n",
       "    <tr style=\"text-align: right;\">\n",
       "      <th></th>\n",
       "      <th>id</th>\n",
       "      <th>plate</th>\n",
       "      <th>date</th>\n",
       "      <th>price</th>\n",
       "    </tr>\n",
       "  </thead>\n",
       "  <tbody>\n",
       "    <tr>\n",
       "      <th>0</th>\n",
       "      <td>1</td>\n",
       "      <td>X059CP797</td>\n",
       "      <td>2024-12-26 00:00:00</td>\n",
       "      <td>65000</td>\n",
       "    </tr>\n",
       "    <tr>\n",
       "      <th>1</th>\n",
       "      <td>2</td>\n",
       "      <td>Y800MH790</td>\n",
       "      <td>2024-07-12 21:31:37</td>\n",
       "      <td>100000</td>\n",
       "    </tr>\n",
       "    <tr>\n",
       "      <th>2</th>\n",
       "      <td>3</td>\n",
       "      <td>A212TX77</td>\n",
       "      <td>2024-04-18 00:00:00</td>\n",
       "      <td>290000</td>\n",
       "    </tr>\n",
       "    <tr>\n",
       "      <th>3</th>\n",
       "      <td>4</td>\n",
       "      <td>P001AY199</td>\n",
       "      <td>2025-01-03 00:27:15</td>\n",
       "      <td>680000</td>\n",
       "    </tr>\n",
       "    <tr>\n",
       "      <th>4</th>\n",
       "      <td>5</td>\n",
       "      <td>P001AY199</td>\n",
       "      <td>2025-01-10 09:32:41</td>\n",
       "      <td>750000</td>\n",
       "    </tr>\n",
       "    <tr>\n",
       "      <th>...</th>\n",
       "      <td>...</td>\n",
       "      <td>...</td>\n",
       "      <td>...</td>\n",
       "      <td>...</td>\n",
       "    </tr>\n",
       "    <tr>\n",
       "      <th>51630</th>\n",
       "      <td>51631</td>\n",
       "      <td>X023PP797</td>\n",
       "      <td>2025-01-29 00:00:00</td>\n",
       "      <td>70000</td>\n",
       "    </tr>\n",
       "    <tr>\n",
       "      <th>51631</th>\n",
       "      <td>51632</td>\n",
       "      <td>M004KA161</td>\n",
       "      <td>2025-01-31 00:00:00</td>\n",
       "      <td>1600000</td>\n",
       "    </tr>\n",
       "    <tr>\n",
       "      <th>51632</th>\n",
       "      <td>51633</td>\n",
       "      <td>E888EB199</td>\n",
       "      <td>2025-02-06 00:00:00</td>\n",
       "      <td>850000</td>\n",
       "    </tr>\n",
       "    <tr>\n",
       "      <th>51633</th>\n",
       "      <td>51634</td>\n",
       "      <td>X023XK77</td>\n",
       "      <td>2024-04-24 11:30:07</td>\n",
       "      <td>150000</td>\n",
       "    </tr>\n",
       "    <tr>\n",
       "      <th>51634</th>\n",
       "      <td>51635</td>\n",
       "      <td>K450OC797</td>\n",
       "      <td>2023-10-06 00:00:00</td>\n",
       "      <td>25000</td>\n",
       "    </tr>\n",
       "  </tbody>\n",
       "</table>\n",
       "<p>51635 rows × 4 columns</p>\n",
       "</div>"
      ],
      "text/plain": [
       "          id      plate                 date    price\n",
       "0          1  X059CP797  2024-12-26 00:00:00    65000\n",
       "1          2  Y800MH790  2024-07-12 21:31:37   100000\n",
       "2          3   A212TX77  2024-04-18 00:00:00   290000\n",
       "3          4  P001AY199  2025-01-03 00:27:15   680000\n",
       "4          5  P001AY199  2025-01-10 09:32:41   750000\n",
       "...      ...        ...                  ...      ...\n",
       "51630  51631  X023PP797  2025-01-29 00:00:00    70000\n",
       "51631  51632  M004KA161  2025-01-31 00:00:00  1600000\n",
       "51632  51633  E888EB199  2025-02-06 00:00:00   850000\n",
       "51633  51634   X023XK77  2024-04-24 11:30:07   150000\n",
       "51634  51635  K450OC797  2023-10-06 00:00:00    25000\n",
       "\n",
       "[51635 rows x 4 columns]"
      ]
     },
     "execution_count": 2,
     "metadata": {},
     "output_type": "execute_result"
    }
   ],
   "source": [
    "data = pd.read_csv('./data/train.csv')\n",
    "data"
   ]
  },
  {
   "cell_type": "code",
   "execution_count": 6,
   "metadata": {},
   "outputs": [
    {
     "data": {
      "text/plain": [
       "id        int64\n",
       "plate    object\n",
       "date     object\n",
       "price     int64\n",
       "dtype: object"
      ]
     },
     "execution_count": 6,
     "metadata": {},
     "output_type": "execute_result"
    }
   ],
   "source": [
    "data.dtypes"
   ]
  },
  {
   "cell_type": "code",
   "execution_count": 7,
   "metadata": {},
   "outputs": [
    {
     "data": {
      "text/html": [
       "<div>\n",
       "<style scoped>\n",
       "    .dataframe tbody tr th:only-of-type {\n",
       "        vertical-align: middle;\n",
       "    }\n",
       "\n",
       "    .dataframe tbody tr th {\n",
       "        vertical-align: top;\n",
       "    }\n",
       "\n",
       "    .dataframe thead th {\n",
       "        text-align: right;\n",
       "    }\n",
       "</style>\n",
       "<table border=\"1\" class=\"dataframe\">\n",
       "  <thead>\n",
       "    <tr style=\"text-align: right;\">\n",
       "      <th></th>\n",
       "      <th>id</th>\n",
       "      <th>price</th>\n",
       "    </tr>\n",
       "  </thead>\n",
       "  <tbody>\n",
       "    <tr>\n",
       "      <th>count</th>\n",
       "      <td>51635.000000</td>\n",
       "      <td>5.163500e+04</td>\n",
       "    </tr>\n",
       "    <tr>\n",
       "      <th>mean</th>\n",
       "      <td>25818.000000</td>\n",
       "      <td>4.532253e+05</td>\n",
       "    </tr>\n",
       "    <tr>\n",
       "      <th>std</th>\n",
       "      <td>14905.884912</td>\n",
       "      <td>1.793287e+06</td>\n",
       "    </tr>\n",
       "    <tr>\n",
       "      <th>min</th>\n",
       "      <td>1.000000</td>\n",
       "      <td>2.000000e+04</td>\n",
       "    </tr>\n",
       "    <tr>\n",
       "      <th>25%</th>\n",
       "      <td>12909.500000</td>\n",
       "      <td>7.000000e+04</td>\n",
       "    </tr>\n",
       "    <tr>\n",
       "      <th>50%</th>\n",
       "      <td>25818.000000</td>\n",
       "      <td>1.500000e+05</td>\n",
       "    </tr>\n",
       "    <tr>\n",
       "      <th>75%</th>\n",
       "      <td>38726.500000</td>\n",
       "      <td>3.600000e+05</td>\n",
       "    </tr>\n",
       "    <tr>\n",
       "      <th>max</th>\n",
       "      <td>51635.000000</td>\n",
       "      <td>1.000000e+08</td>\n",
       "    </tr>\n",
       "  </tbody>\n",
       "</table>\n",
       "</div>"
      ],
      "text/plain": [
       "                 id         price\n",
       "count  51635.000000  5.163500e+04\n",
       "mean   25818.000000  4.532253e+05\n",
       "std    14905.884912  1.793287e+06\n",
       "min        1.000000  2.000000e+04\n",
       "25%    12909.500000  7.000000e+04\n",
       "50%    25818.000000  1.500000e+05\n",
       "75%    38726.500000  3.600000e+05\n",
       "max    51635.000000  1.000000e+08"
      ]
     },
     "execution_count": 7,
     "metadata": {},
     "output_type": "execute_result"
    }
   ],
   "source": [
    "data.describe()"
   ]
  },
  {
   "cell_type": "markdown",
   "metadata": {},
   "source": [
    "### Exploratory Data Analysis"
   ]
  },
  {
   "cell_type": "code",
   "execution_count": 5,
   "metadata": {},
   "outputs": [
    {
     "data": {
      "text/plain": [
       "id       0\n",
       "plate    0\n",
       "date     0\n",
       "price    0\n",
       "dtype: int64"
      ]
     },
     "execution_count": 5,
     "metadata": {},
     "output_type": "execute_result"
    }
   ],
   "source": [
    "#checking if there are any null values\n",
    "data.isnull().sum()"
   ]
  },
  {
   "cell_type": "code",
   "execution_count": null,
   "metadata": {},
   "outputs": [
    {
     "data": {
      "text/plain": [
       "0"
      ]
     },
     "execution_count": 8,
     "metadata": {},
     "output_type": "execute_result"
    }
   ],
   "source": [
    "#Checking if there are any duplicate values\n",
    "data.duplicated().sum()"
   ]
  },
  {
   "cell_type": "code",
   "execution_count": null,
   "metadata": {},
   "outputs": [
    {
     "data": {
      "text/plain": [
       "43605"
      ]
     },
     "execution_count": 4,
     "metadata": {},
     "output_type": "execute_result"
    }
   ],
   "source": [
    "# Number of unique car plate numbers\n",
    "data['plate'].nunique()"
   ]
  },
  {
   "cell_type": "code",
   "execution_count": 19,
   "metadata": {},
   "outputs": [
    {
     "data": {
      "text/plain": [
       "<Axes: >"
      ]
     },
     "execution_count": 19,
     "metadata": {},
     "output_type": "execute_result"
    },
    {
     "data": {
      "image/png": "[encoded data removed]",
      "text/plain": [
       "<Figure size 640x480 with 1 Axes>"
      ]
     },
     "metadata": {},
     "output_type": "display_data"
    }
   ],
   "source": [
    "data['price'].hist(bins = 10)"
   ]
  },
  {
   "cell_type": "code",
   "execution_count": null,
   "metadata": {},
   "outputs": [
    {
     "data": {
      "text/html": [
       "<div>\n",
       "<style scoped>\n",
       "    .dataframe tbody tr th:only-of-type {\n",
       "        vertical-align: middle;\n",
       "    }\n",
       "\n",
       "    .dataframe tbody tr th {\n",
       "        vertical-align: top;\n",
       "    }\n",
       "\n",
       "    .dataframe thead th {\n",
       "        text-align: right;\n",
       "    }\n",
       "</style>\n",
       "<table border=\"1\" class=\"dataframe\">\n",
       "  <thead>\n",
       "    <tr style=\"text-align: right;\">\n",
       "      <th></th>\n",
       "      <th>id</th>\n",
       "      <th>plate</th>\n",
       "      <th>date</th>\n",
       "      <th>price</th>\n",
       "    </tr>\n",
       "  </thead>\n",
       "  <tbody>\n",
       "    <tr>\n",
       "      <th>335</th>\n",
       "      <td>336</td>\n",
       "      <td>E007XA77</td>\n",
       "      <td>2023-10-18 00:00:00</td>\n",
       "      <td>50000000</td>\n",
       "    </tr>\n",
       "    <tr>\n",
       "      <th>528</th>\n",
       "      <td>529</td>\n",
       "      <td>P888PP99</td>\n",
       "      <td>2025-01-17 00:00:00</td>\n",
       "      <td>15000000</td>\n",
       "    </tr>\n",
       "    <tr>\n",
       "      <th>560</th>\n",
       "      <td>561</td>\n",
       "      <td>C666OC66</td>\n",
       "      <td>2024-09-13 00:00:00</td>\n",
       "      <td>15000000</td>\n",
       "    </tr>\n",
       "    <tr>\n",
       "      <th>1546</th>\n",
       "      <td>1547</td>\n",
       "      <td>H666AA777</td>\n",
       "      <td>2023-09-23 00:00:00</td>\n",
       "      <td>12000000</td>\n",
       "    </tr>\n",
       "    <tr>\n",
       "      <th>1794</th>\n",
       "      <td>1795</td>\n",
       "      <td>K252KK777</td>\n",
       "      <td>2024-10-14 00:00:00</td>\n",
       "      <td>100000000</td>\n",
       "    </tr>\n",
       "    <tr>\n",
       "      <th>...</th>\n",
       "      <td>...</td>\n",
       "      <td>...</td>\n",
       "      <td>...</td>\n",
       "      <td>...</td>\n",
       "    </tr>\n",
       "    <tr>\n",
       "      <th>51217</th>\n",
       "      <td>51218</td>\n",
       "      <td>M444MM197</td>\n",
       "      <td>2025-02-09 00:00:00</td>\n",
       "      <td>11000000</td>\n",
       "    </tr>\n",
       "    <tr>\n",
       "      <th>51223</th>\n",
       "      <td>51224</td>\n",
       "      <td>M010MM77</td>\n",
       "      <td>2024-11-19 15:37:48</td>\n",
       "      <td>35000000</td>\n",
       "    </tr>\n",
       "    <tr>\n",
       "      <th>51224</th>\n",
       "      <td>51225</td>\n",
       "      <td>M010MM77</td>\n",
       "      <td>2025-01-12 20:25:16</td>\n",
       "      <td>36000000</td>\n",
       "    </tr>\n",
       "    <tr>\n",
       "      <th>51225</th>\n",
       "      <td>51226</td>\n",
       "      <td>M010MM77</td>\n",
       "      <td>2025-02-11 00:00:00</td>\n",
       "      <td>33000000</td>\n",
       "    </tr>\n",
       "    <tr>\n",
       "      <th>51254</th>\n",
       "      <td>51255</td>\n",
       "      <td>A686MP77</td>\n",
       "      <td>2024-10-11 00:00:00</td>\n",
       "      <td>13000000</td>\n",
       "    </tr>\n",
       "  </tbody>\n",
       "</table>\n",
       "<p>139 rows × 4 columns</p>\n",
       "</div>"
      ],
      "text/plain": [
       "          id      plate                 date      price\n",
       "335      336   E007XA77  2023-10-18 00:00:00   50000000\n",
       "528      529   P888PP99  2025-01-17 00:00:00   15000000\n",
       "560      561   C666OC66  2024-09-13 00:00:00   15000000\n",
       "1546    1547  H666AA777  2023-09-23 00:00:00   12000000\n",
       "1794    1795  K252KK777  2024-10-14 00:00:00  100000000\n",
       "...      ...        ...                  ...        ...\n",
       "51217  51218  M444MM197  2025-02-09 00:00:00   11000000\n",
       "51223  51224   M010MM77  2024-11-19 15:37:48   35000000\n",
       "51224  51225   M010MM77  2025-01-12 20:25:16   36000000\n",
       "51225  51226   M010MM77  2025-02-11 00:00:00   33000000\n",
       "51254  51255   A686MP77  2024-10-11 00:00:00   13000000\n",
       "\n",
       "[139 rows x 4 columns]"
      ]
     },
     "execution_count": 18,
     "metadata": {},
     "output_type": "execute_result"
    }
   ],
   "source": [
    "# why does this data have abnormal prices compared to the other data?\n",
    "data[data['price'] > 10000000]"
   ]
  },
  {
   "cell_type": "code",
   "execution_count": 21,
   "metadata": {},
   "outputs": [
    {
     "data": {
      "text/plain": [
       "Text(0.5, 1.0, 'Price Changes Over Time')"
      ]
     },
     "execution_count": 21,
     "metadata": {},
     "output_type": "execute_result"
    },
    {
     "data": {
      "image/png": "[encoded data removed]",
      "text/plain": [
       "<Figure size 640x480 with 1 Axes>"
      ]
     },
     "metadata": {},
     "output_type": "display_data"
    }
   ],
   "source": [
    "data.plot(x = 'date', y = 'price')\n",
    "plt.ylabel('price')\n",
    "plt.title('Price Changes Over Time')"
   ]
  },
  {
   "cell_type": "code",
   "execution_count": 24,
   "metadata": {},
   "outputs": [
    {
     "data": {
      "text/html": [
       "<div>\n",
       "<style scoped>\n",
       "    .dataframe tbody tr th:only-of-type {\n",
       "        vertical-align: middle;\n",
       "    }\n",
       "\n",
       "    .dataframe tbody tr th {\n",
       "        vertical-align: top;\n",
       "    }\n",
       "\n",
       "    .dataframe thead th {\n",
       "        text-align: right;\n",
       "    }\n",
       "</style>\n",
       "<table border=\"1\" class=\"dataframe\">\n",
       "  <thead>\n",
       "    <tr style=\"text-align: right;\">\n",
       "      <th></th>\n",
       "      <th>id</th>\n",
       "      <th>plate</th>\n",
       "      <th>date</th>\n",
       "      <th>price</th>\n",
       "    </tr>\n",
       "  </thead>\n",
       "  <tbody>\n",
       "    <tr>\n",
       "      <th>0</th>\n",
       "      <td>1</td>\n",
       "      <td>X059CP797</td>\n",
       "      <td>2024-12-26 00:00:00</td>\n",
       "      <td>65000</td>\n",
       "    </tr>\n",
       "    <tr>\n",
       "      <th>1</th>\n",
       "      <td>2</td>\n",
       "      <td>Y800MH790</td>\n",
       "      <td>2024-07-12 21:31:37</td>\n",
       "      <td>100000</td>\n",
       "    </tr>\n",
       "    <tr>\n",
       "      <th>2</th>\n",
       "      <td>3</td>\n",
       "      <td>A212TX77</td>\n",
       "      <td>2024-04-18 00:00:00</td>\n",
       "      <td>290000</td>\n",
       "    </tr>\n",
       "    <tr>\n",
       "      <th>3</th>\n",
       "      <td>4</td>\n",
       "      <td>P001AY199</td>\n",
       "      <td>2025-01-03 00:27:15</td>\n",
       "      <td>680000</td>\n",
       "    </tr>\n",
       "    <tr>\n",
       "      <th>4</th>\n",
       "      <td>5</td>\n",
       "      <td>P001AY199</td>\n",
       "      <td>2025-01-10 09:32:41</td>\n",
       "      <td>750000</td>\n",
       "    </tr>\n",
       "    <tr>\n",
       "      <th>...</th>\n",
       "      <td>...</td>\n",
       "      <td>...</td>\n",
       "      <td>...</td>\n",
       "      <td>...</td>\n",
       "    </tr>\n",
       "    <tr>\n",
       "      <th>51630</th>\n",
       "      <td>51631</td>\n",
       "      <td>X023PP797</td>\n",
       "      <td>2025-01-29 00:00:00</td>\n",
       "      <td>70000</td>\n",
       "    </tr>\n",
       "    <tr>\n",
       "      <th>51631</th>\n",
       "      <td>51632</td>\n",
       "      <td>M004KA161</td>\n",
       "      <td>2025-01-31 00:00:00</td>\n",
       "      <td>1600000</td>\n",
       "    </tr>\n",
       "    <tr>\n",
       "      <th>51632</th>\n",
       "      <td>51633</td>\n",
       "      <td>E888EB199</td>\n",
       "      <td>2025-02-06 00:00:00</td>\n",
       "      <td>850000</td>\n",
       "    </tr>\n",
       "    <tr>\n",
       "      <th>51633</th>\n",
       "      <td>51634</td>\n",
       "      <td>X023XK77</td>\n",
       "      <td>2024-04-24 11:30:07</td>\n",
       "      <td>150000</td>\n",
       "    </tr>\n",
       "    <tr>\n",
       "      <th>51634</th>\n",
       "      <td>51635</td>\n",
       "      <td>K450OC797</td>\n",
       "      <td>2023-10-06 00:00:00</td>\n",
       "      <td>25000</td>\n",
       "    </tr>\n",
       "  </tbody>\n",
       "</table>\n",
       "<p>51635 rows × 4 columns</p>\n",
       "</div>"
      ],
      "text/plain": [
       "          id      plate                date    price\n",
       "0          1  X059CP797 2024-12-26 00:00:00    65000\n",
       "1          2  Y800MH790 2024-07-12 21:31:37   100000\n",
       "2          3   A212TX77 2024-04-18 00:00:00   290000\n",
       "3          4  P001AY199 2025-01-03 00:27:15   680000\n",
       "4          5  P001AY199 2025-01-10 09:32:41   750000\n",
       "...      ...        ...                 ...      ...\n",
       "51630  51631  X023PP797 2025-01-29 00:00:00    70000\n",
       "51631  51632  M004KA161 2025-01-31 00:00:00  1600000\n",
       "51632  51633  E888EB199 2025-02-06 00:00:00   850000\n",
       "51633  51634   X023XK77 2024-04-24 11:30:07   150000\n",
       "51634  51635  K450OC797 2023-10-06 00:00:00    25000\n",
       "\n",
       "[51635 rows x 4 columns]"
      ]
     },
     "execution_count": 24,
     "metadata": {},
     "output_type": "execute_result"
    }
   ],
   "source": [
    "data['date'] = pd.to_datetime(data['date'])\n",
    "data"
   ]
  },
  {
   "cell_type": "code",
   "execution_count": null,
   "metadata": {},
   "outputs": [
    {
     "data": {
      "text/plain": [
       "(Timestamp('2021-02-17 21:21:56'), Timestamp('2025-02-12 00:00:00'))"
      ]
     },
     "execution_count": 25,
     "metadata": {},
     "output_type": "execute_result"
    }
   ],
   "source": [
    "#Range of date values\n",
    "min(data.date), max(data.date)"
   ]
  },
  {
   "cell_type": "code",
   "execution_count": null,
   "metadata": {},
   "outputs": [
    {
     "data": {
      "text/plain": [
       "plate\n",
       "A001AA197    1\n",
       "A001AA75     1\n",
       "A001AA97     1\n",
       "A001AE123    1\n",
       "A001AO61     1\n",
       "            ..\n",
       "Y999YH97     1\n",
       "Y999YM150    1\n",
       "Y999YM90     2\n",
       "Y999YX777    1\n",
       "Y999YY90     1\n",
       "Name: price, Length: 43605, dtype: int64"
      ]
     },
     "execution_count": 34,
     "metadata": {},
     "output_type": "execute_result"
    }
   ],
   "source": [
    "data.groupby('plate')['price'].agg('count')"
   ]
  },
  {
   "cell_type": "code",
   "execution_count": 42,
   "metadata": {},
   "outputs": [
    {
     "data": {
      "text/plain": [
       "<bound method IndexOpsMixin.value_counts of 0        1\n",
       "1        1\n",
       "2        1\n",
       "3        2\n",
       "4        2\n",
       "        ..\n",
       "51630    2\n",
       "51631    1\n",
       "51632    1\n",
       "51633    1\n",
       "51634    1\n",
       "Name: price, Length: 51635, dtype: int64>"
      ]
     },
     "execution_count": 42,
     "metadata": {},
     "output_type": "execute_result"
    }
   ],
   "source": [
    "data.groupby('plate')['price'].transform('count').value_counts\n",
    "\n",
    "#data['count_per_plate'].value_counts()\n"
   ]
  },
  {
   "cell_type": "code",
   "execution_count": 41,
   "metadata": {},
   "outputs": [
    {
     "data": {
      "image/png": "[encoded data removed]",
      "text/plain": [
       "<Figure size 640x480 with 1 Axes>"
      ]
     },
     "metadata": {},
     "output_type": "display_data"
    }
   ],
   "source": [
    "# Visualing price trends for most frequent 5 car plates\n",
    "sample_plates = data['plate'].value_counts().index[:5]  # Take 5 most frequent plates\n",
    "for plate in sample_plates:\n",
    "    subset = data[data['plate'] == plate]\n",
    "    plt.plot(subset['date'], subset['price'], label=plate)\n",
    "\n",
    "plt.xlabel(\"Date\")\n",
    "plt.ylabel(\"Price\")\n",
    "plt.legend()\n",
    "plt.title(\"Price trends for sample plates\")\n",
    "plt.xticks(rotation=45)\n",
    "plt.show()\n"
   ]
  },
  {
   "cell_type": "markdown",
   "metadata": {},
   "source": [
    "Based on the above choices I decided to use regression models"
   ]
  },
  {
   "cell_type": "markdown",
   "metadata": {},
   "source": [
    "### Feature Engineering"
   ]
  },
  {
   "cell_type": "code",
   "execution_count": 30,
   "metadata": {},
   "outputs": [
    {
     "data": {
      "text/html": [
       "<div>\n",
       "<style scoped>\n",
       "    .dataframe tbody tr th:only-of-type {\n",
       "        vertical-align: middle;\n",
       "    }\n",
       "\n",
       "    .dataframe tbody tr th {\n",
       "        vertical-align: top;\n",
       "    }\n",
       "\n",
       "    .dataframe thead th {\n",
       "        text-align: right;\n",
       "    }\n",
       "</style>\n",
       "<table border=\"1\" class=\"dataframe\">\n",
       "  <thead>\n",
       "    <tr style=\"text-align: right;\">\n",
       "      <th></th>\n",
       "      <th>id</th>\n",
       "      <th>plate</th>\n",
       "      <th>date</th>\n",
       "      <th>price</th>\n",
       "      <th>year</th>\n",
       "      <th>month</th>\n",
       "      <th>day</th>\n",
       "      <th>hour</th>\n",
       "      <th>min</th>\n",
       "      <th>sec</th>\n",
       "    </tr>\n",
       "  </thead>\n",
       "  <tbody>\n",
       "    <tr>\n",
       "      <th>0</th>\n",
       "      <td>1</td>\n",
       "      <td>X059CP797</td>\n",
       "      <td>2024-12-26 00:00:00</td>\n",
       "      <td>65000</td>\n",
       "      <td>2024</td>\n",
       "      <td>12</td>\n",
       "      <td>26</td>\n",
       "      <td>0</td>\n",
       "      <td>0</td>\n",
       "      <td>0</td>\n",
       "    </tr>\n",
       "    <tr>\n",
       "      <th>1</th>\n",
       "      <td>2</td>\n",
       "      <td>Y800MH790</td>\n",
       "      <td>2024-07-12 21:31:37</td>\n",
       "      <td>100000</td>\n",
       "      <td>2024</td>\n",
       "      <td>7</td>\n",
       "      <td>12</td>\n",
       "      <td>21</td>\n",
       "      <td>31</td>\n",
       "      <td>37</td>\n",
       "    </tr>\n",
       "    <tr>\n",
       "      <th>2</th>\n",
       "      <td>3</td>\n",
       "      <td>A212TX77</td>\n",
       "      <td>2024-04-18 00:00:00</td>\n",
       "      <td>290000</td>\n",
       "      <td>2024</td>\n",
       "      <td>4</td>\n",
       "      <td>18</td>\n",
       "      <td>0</td>\n",
       "      <td>0</td>\n",
       "      <td>0</td>\n",
       "    </tr>\n",
       "    <tr>\n",
       "      <th>3</th>\n",
       "      <td>4</td>\n",
       "      <td>P001AY199</td>\n",
       "      <td>2025-01-03 00:27:15</td>\n",
       "      <td>680000</td>\n",
       "      <td>2025</td>\n",
       "      <td>1</td>\n",
       "      <td>3</td>\n",
       "      <td>0</td>\n",
       "      <td>27</td>\n",
       "      <td>15</td>\n",
       "    </tr>\n",
       "    <tr>\n",
       "      <th>4</th>\n",
       "      <td>5</td>\n",
       "      <td>P001AY199</td>\n",
       "      <td>2025-01-10 09:32:41</td>\n",
       "      <td>750000</td>\n",
       "      <td>2025</td>\n",
       "      <td>1</td>\n",
       "      <td>10</td>\n",
       "      <td>9</td>\n",
       "      <td>32</td>\n",
       "      <td>41</td>\n",
       "    </tr>\n",
       "  </tbody>\n",
       "</table>\n",
       "</div>"
      ],
      "text/plain": [
       "   id      plate                date   price  year  month  day  hour  min  sec\n",
       "0   1  X059CP797 2024-12-26 00:00:00   65000  2024     12   26     0    0    0\n",
       "1   2  Y800MH790 2024-07-12 21:31:37  100000  2024      7   12    21   31   37\n",
       "2   3   A212TX77 2024-04-18 00:00:00  290000  2024      4   18     0    0    0\n",
       "3   4  P001AY199 2025-01-03 00:27:15  680000  2025      1    3     0   27   15\n",
       "4   5  P001AY199 2025-01-10 09:32:41  750000  2025      1   10     9   32   41"
      ]
     },
     "execution_count": 30,
     "metadata": {},
     "output_type": "execute_result"
    }
   ],
   "source": [
    "data['year'] = data['date'].dt.year\n",
    "data['month'] = data['date'].dt.month\n",
    "data['day'] = data['date'].dt.day\n",
    "data['hour'] = data['date'].dt.hour\n",
    "data['min'] = data['date'].dt.minute\n",
    "data['sec'] = data['date'].dt.second\n",
    "data.head()"
   ]
  },
  {
   "cell_type": "code",
   "execution_count": null,
   "metadata": {},
   "outputs": [],
   "source": []
  }
 ],
 "metadata": {
  "kernelspec": {
   "display_name": "base",
   "language": "python",
   "name": "python3"
  },
  "language_info": {
   "codemirror_mode": {
    "name": "ipython",
    "version": 3
   },
   "file_extension": ".py",
   "mimetype": "text/x-python",
   "name": "python",
   "nbconvert_exporter": "python",
   "pygments_lexer": "ipython3",
   "version": "3.11.7"
  }
 },
 "nbformat": 4,
 "nbformat_minor": 2
}
